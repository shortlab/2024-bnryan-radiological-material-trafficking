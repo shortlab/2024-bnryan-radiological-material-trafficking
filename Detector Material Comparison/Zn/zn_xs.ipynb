{
 "cells": [
  {
   "cell_type": "code",
   "execution_count": 1,
   "id": "2d83aae6",
   "metadata": {},
   "outputs": [],
   "source": [
    "### Imports\n",
    "import numpy as np\n",
    "import matplotlib.pyplot as plt\n",
    "import csv\n",
    "import math"
   ]
  },
  {
   "cell_type": "markdown",
   "id": "5c300dac",
   "metadata": {},
   "source": [
    "Defining all Varaibles (Requires User)"
   ]
  },
  {
   "cell_type": "code",
   "execution_count": 2,
   "id": "31642f01",
   "metadata": {},
   "outputs": [],
   "source": [
    "### Set Maximum Energy\n",
    "Q = 8000   #keV"
   ]
  },
  {
   "cell_type": "code",
   "execution_count": 3,
   "id": "efea4bb6",
   "metadata": {},
   "outputs": [],
   "source": [
    "### Detector Material Variables\n",
    "mat = 'zn'\n",
    "Z = 30\n",
    "ratio = 3.2\n",
    "T_c = 0.875 # Kelvin\n",
    "M = 65.396366 * 931368088 # eV"
   ]
  },
  {
   "cell_type": "code",
   "execution_count": 4,
   "id": "77cef316",
   "metadata": {},
   "outputs": [],
   "source": [
    "### Define Constants\n",
    "G_F = 1.663788*10**(-5) *10**(-18)   # GeV-2 to eV-2\n",
    "sin_w = 0.231\n",
    "hbar = 6.582119569 * 10**(-22) * 10**(6)   #MeV*s to eV*s\n",
    "c = 299792458 * 10**2   #m/s to cm/s\n",
    "k_B = 8.61733 * 10**(-5)  #eV/K"
   ]
  },
  {
   "cell_type": "code",
   "execution_count": 5,
   "id": "9bc331b1",
   "metadata": {},
   "outputs": [
    {
     "name": "stdout",
     "output_type": "stream",
     "text": [
      "Gap Energy: 0.00024128524000000006 eV\n"
     ]
    }
   ],
   "source": [
    "### Calculate the Superconducting Gap Energy\n",
    "T_0 = ratio * k_B * T_c\n",
    "print('Gap Energy: ' + str(T_0) + ' eV')"
   ]
  },
  {
   "cell_type": "code",
   "execution_count": 6,
   "id": "9f88f55b",
   "metadata": {},
   "outputs": [
    {
     "name": "stdout",
     "output_type": "stream",
     "text": [
      "Minimum Detectable Energy: 2710.740122814056 eV\n"
     ]
    }
   ],
   "source": [
    "### Calculate Minimum Neutrino Energy\n",
    "# This is not the same for each isotope!  However, for ease I \n",
    "# conservatively defined this based on the heaviest mass.\n",
    "E_min = 0.5*T_0+0.5*math.sqrt(T_0**2 + 2*T_0*M)\n",
    "print('Minimum Detectable Energy: ' + str(E_min) + ' eV')"
   ]
  },
  {
   "cell_type": "code",
   "execution_count": 7,
   "id": "a000ce96",
   "metadata": {},
   "outputs": [],
   "source": [
    "### Make Energy Range List\n",
    "energies = []   # in eV\n",
    "for i in range(int(E_min*10**(-3))+1, int(Q)+1) :\n",
    "    energies.append(i*10**(3))"
   ]
  },
  {
   "cell_type": "markdown",
   "id": "a44985e6",
   "metadata": {},
   "source": [
    "Defining the Cross Section Function"
   ]
  },
  {
   "cell_type": "code",
   "execution_count": 8,
   "id": "c70f4a17",
   "metadata": {},
   "outputs": [],
   "source": [
    "def XS(N, M, E):\n",
    "    \n",
    "    # Define Weak Nuclear Charge\n",
    "    Q_W = N-(1-4*sin_w)*Z\n",
    "    \n",
    "    # Define Maximum Recoil Energy\n",
    "    T_max = E/(1+M/(2*E))\n",
    "    \n",
    "    # Calculate Cross Section\n",
    "    const_term = G_F**2 / (4*math.pi) * (hbar*c)**2 \n",
    "    sigma = const_term * E**2 * Q_W**2 * (1-T_0/T_max)**2\n",
    "    return sigma"
   ]
  },
  {
   "cell_type": "markdown",
   "id": "b4b1e6d8",
   "metadata": {},
   "source": [
    "Define Each Detecting Isotope (Requires User)"
   ]
  },
  {
   "cell_type": "code",
   "execution_count": 9,
   "id": "103bb18c",
   "metadata": {},
   "outputs": [],
   "source": [
    "# Isotope 64\n",
    "prob_64 = 0.486\n",
    "N_64 = 34\n",
    "M_64 = 63.929147 * 931368088 #amu to eV\n",
    "xs_64 = []\n",
    "\n",
    "# Isotope 66\n",
    "prob_66 = 0.279\n",
    "N_66 = 36\n",
    "M_66 = 65.926037 * 931368088 #amu to eV \n",
    "xs_66 = []\n",
    "\n",
    "# Isotope 67\n",
    "prob_67 = 0.041\n",
    "N_67 = 37\n",
    "M_67 = 66.927131 * 931368088 #amu to eV \n",
    "xs_67 = []\n",
    "\n",
    "# Isotope 68\n",
    "prob_68 = 0.188\n",
    "N_68 = 38\n",
    "M_68 = 67.924848 * 931368088 #amu to eV\n",
    "xs_68 = []\n",
    "\n",
    "# Isotope 70\n",
    "prob_70 = 0.006\n",
    "N_70 = 40\n",
    "M_70 = 69.925325 * 931368088 #amu to eV\n",
    "xs_70 = []"
   ]
  },
  {
   "cell_type": "markdown",
   "id": "4c7aadcb",
   "metadata": {},
   "source": [
    "Calculate the Cross Section"
   ]
  },
  {
   "cell_type": "code",
   "execution_count": 10,
   "id": "ad452182",
   "metadata": {},
   "outputs": [],
   "source": [
    "### Calculate Individual Isotope Cross Sections\n",
    "for e in energies :\n",
    "    xs_64.append(XS(N_64, M_64, e))\n",
    "    xs_66.append(XS(N_66, M_66, e))\n",
    "    xs_67.append(XS(N_67, M_67, e))\n",
    "    xs_68.append(XS(N_68, M_68, e))\n",
    "    xs_70.append(XS(N_70, M_70, e))"
   ]
  },
  {
   "cell_type": "code",
   "execution_count": 11,
   "id": "da550330",
   "metadata": {},
   "outputs": [],
   "source": [
    "### Calculate Total Cross Section\n",
    "xs_tot = []\n",
    "\n",
    "for i in range(0,len(xs_64)) :\n",
    "    tot = xs_64[i]*prob_64 + xs_66[i]*prob_66 + \\\n",
    "                     xs_67[i]*prob_67 + xs_68[i]*prob_68 + \\\n",
    "                     xs_70[i]*prob_70\n",
    "    xs_tot.append(tot)"
   ]
  },
  {
   "cell_type": "code",
   "execution_count": 12,
   "id": "b03e3843",
   "metadata": {},
   "outputs": [],
   "source": [
    "### Convert energies back to keV\n",
    "kev = []\n",
    "for e in energies :\n",
    "    kev.append(e*10**(-3))"
   ]
  },
  {
   "cell_type": "markdown",
   "id": "c12cf7ff",
   "metadata": {},
   "source": [
    "Generate Results Files"
   ]
  },
  {
   "cell_type": "code",
   "execution_count": 13,
   "id": "a8f180bc",
   "metadata": {},
   "outputs": [
    {
     "data": {
      "text/plain": [
       "<function matplotlib.pyplot.show(close=None, block=None)>"
      ]
     },
     "execution_count": 13,
     "metadata": {},
     "output_type": "execute_result"
    },
    {
     "data": {
      "image/png": "[encoded data removed]",
      "text/plain": [
       "<Figure size 640x480 with 1 Axes>"
      ]
     },
     "metadata": {},
     "output_type": "display_data"
    }
   ],
   "source": [
    "### Plot Cross Section\n",
    "plt.plot(kev, xs_tot, color='black')\n",
    "plt.title(mat + ' CEvNS Cross Section')\n",
    "plt.xlabel('Neutrino Energy (keV)')\n",
    "plt.ylabel('Cross Section (cm^2)')\n",
    "plt.yscale('log')\n",
    "plt.savefig(mat + '_xs.pdf')\n",
    "plt.show"
   ]
  },
  {
   "cell_type": "code",
   "execution_count": 14,
   "id": "165f6a41",
   "metadata": {},
   "outputs": [],
   "source": [
    "### Download Data as a CSV File\n",
    "csv_file = mat + '_xs.csv'\n",
    "with open(csv_file, 'w', newline='') as file:\n",
    "    fieldnames = ['energy', 'xs']\n",
    "    writer = csv.DictWriter(file, fieldnames=fieldnames)\n",
    "    writer.writeheader()\n",
    "    for i in range(len(energies)) :\n",
    "        writer.writerow({'energy': energies[i], 'xs': xs_tot[i]})"
   ]
  },
  {
   "cell_type": "code",
   "execution_count": null,
   "id": "5d04d8fb",
   "metadata": {},
   "outputs": [],
   "source": []
  }
 ],
 "metadata": {
  "kernelspec": {
   "display_name": "CEvNS",
   "language": "python",
   "name": "cevns"
  },
  "language_info": {
   "codemirror_mode": {
    "name": "ipython",
    "version": 3
   },
   "file_extension": ".py",
   "mimetype": "text/x-python",
   "name": "python",
   "nbconvert_exporter": "python",
   "pygments_lexer": "ipython3",
   "version": "3.10.9"
  }
 },
 "nbformat": 4,
 "nbformat_minor": 5
}
