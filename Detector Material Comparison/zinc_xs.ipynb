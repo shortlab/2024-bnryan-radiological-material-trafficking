{
 "cells": [
  {
   "cell_type": "code",
   "execution_count": 6,
   "id": "94705b27",
   "metadata": {},
   "outputs": [],
   "source": [
    "# Imports\n",
    "import numpy as np\n",
    "import matplotlib.pyplot as plt\n",
    "import csv\n",
    "import math"
   ]
  },
  {
   "cell_type": "code",
   "execution_count": 7,
   "id": "ab861b55",
   "metadata": {},
   "outputs": [],
   "source": [
    "# Element Unique Constants\n",
    "Z = 30\n",
    "ratio = 3.2\n",
    "T_c = 0.875 # Kelvin\n",
    "M = 65.396366 * 931368088  #amu to eV  "
   ]
  },
  {
   "cell_type": "code",
   "execution_count": 8,
   "id": "991e57c4",
   "metadata": {},
   "outputs": [],
   "source": [
    "# Define Constants\n",
    "G_F = 1.663788*10**(-5) *10**(-18)   # GeV-2 to eV-2\n",
    "sin_w = 0.231\n",
    "Q = 8000   #keV\n",
    "hbar = 6.582119569 * 10**(-22) * 10**(6)   #MeV*s to eV*s\n",
    "c = 299792458 * 10**2   #m/s to cm/s\n",
    "k_B = 8.61733 * 10**(-5)  #eV/K"
   ]
  },
  {
   "cell_type": "code",
   "execution_count": 9,
   "id": "01c91a34",
   "metadata": {},
   "outputs": [
    {
     "name": "stdout",
     "output_type": "stream",
     "text": [
      "Gap Energy: 0.00024128524000000006 eV\n"
     ]
    }
   ],
   "source": [
    "# Calculate Critical Temperature\n",
    "T_0 = ratio * k_B * T_c\n",
    "print('Gap Energy: ' + str(T_0) + ' eV')"
   ]
  },
  {
   "cell_type": "code",
   "execution_count": 10,
   "id": "9897a9c9",
   "metadata": {},
   "outputs": [
    {
     "name": "stdout",
     "output_type": "stream",
     "text": [
      "Minimum Detectable Energy: 2710.740122814056 eV\n"
     ]
    }
   ],
   "source": [
    "# Calculated Minimum Energy\n",
    "E_min = 0.5*T_0+0.5*math.sqrt(T_0**2 + 2*T_0*M)\n",
    "print('Minimum Detectable Energy: ' + str(E_min) + ' eV')"
   ]
  },
  {
   "cell_type": "code",
   "execution_count": 35,
   "id": "b5770ab1",
   "metadata": {},
   "outputs": [],
   "source": [
    "# Create Cross Section Function\n",
    "def XS(N, M, E):\n",
    "    Q_W = N-(1-4*sin_w)*Z\n",
    "    const_term = G_F**2 * Q_W**2 /(4*math.pi) * (hbar*c)**2 \n",
    "    T_max = E/(1+M/(2*E))\n",
    "    sigma = const_term * E**2 * (1-T_0/T_max)**2\n",
    "    return sigma"
   ]
  },
  {
   "cell_type": "code",
   "execution_count": 36,
   "id": "402a7974",
   "metadata": {},
   "outputs": [],
   "source": [
    "# Make Energy Spectrum\n",
    "energies = []   # in eV\n",
    "for i in range(int(E_min*10**(-3))+1, int(Q)+1) :\n",
    "    energies.append(i*10**(3))"
   ]
  },
  {
   "cell_type": "code",
   "execution_count": 37,
   "id": "940a4389",
   "metadata": {},
   "outputs": [],
   "source": [
    "# Isotope 64\n",
    "prob_64 = 0.486\n",
    "N_64 = 34\n",
    "M_64 = 63.929147 * 931368088 #amu to eV\n",
    "xs_64 = []"
   ]
  },
  {
   "cell_type": "code",
   "execution_count": 38,
   "id": "6773c8df",
   "metadata": {},
   "outputs": [],
   "source": [
    "# Isotope 66\n",
    "prob_66 = 0.279\n",
    "N_66 = 36\n",
    "M_66 = 65.926037 * 931368088 #amu to eV \n",
    "xs_66 = []"
   ]
  },
  {
   "cell_type": "code",
   "execution_count": 39,
   "id": "c0826ddc",
   "metadata": {},
   "outputs": [],
   "source": [
    "# Isotope 67\n",
    "prob_67 = 0.041\n",
    "N_67 = 37\n",
    "M_67 = 66.927131 * 931368088 #amu to eV \n",
    "xs_67 = []"
   ]
  },
  {
   "cell_type": "code",
   "execution_count": 40,
   "id": "0404ba26",
   "metadata": {},
   "outputs": [],
   "source": [
    "# Isotope 68\n",
    "prob_68 = 0.188\n",
    "N_68 = 38\n",
    "M_68 = 67.924848 * 931368088 #amu to eV\n",
    "xs_68 = []"
   ]
  },
  {
   "cell_type": "code",
   "execution_count": 41,
   "id": "44ed251a",
   "metadata": {},
   "outputs": [],
   "source": [
    "# Isotope 70\n",
    "prob_70 = 0.006\n",
    "N_70 = 40\n",
    "M_70 = 69.925325 * 931368088 #amu to eV\n",
    "xs_70 = []"
   ]
  },
  {
   "cell_type": "code",
   "execution_count": 42,
   "id": "2c21bb61",
   "metadata": {},
   "outputs": [],
   "source": [
    "# Calculate Isotope Cross Sections\n",
    "for e in energies :\n",
    "    xs_64.append(XS(N_64, M_64, e))\n",
    "    xs_66.append(XS(N_66, M_66, e))\n",
    "    xs_67.append(XS(N_67, M_67, e))\n",
    "    xs_68.append(XS(N_68, M_68, e))\n",
    "    xs_70.append(XS(N_70, M_70, e))"
   ]
  },
  {
   "cell_type": "code",
   "execution_count": 43,
   "id": "774f32e2",
   "metadata": {},
   "outputs": [],
   "source": [
    "xs_tot = []\n",
    "\n",
    "for i in range(0,len(xs_64)) :\n",
    "    tot = xs_64[i]*prob_64 + xs_66[i]*prob_66 + \\\n",
    "                     xs_67[i]*prob_67 + xs_68[i]*prob_68 + \\\n",
    "                     xs_70[i]*prob_70\n",
    "    xs_tot.append(tot)"
   ]
  },
  {
   "cell_type": "code",
   "execution_count": 44,
   "id": "6679f00f",
   "metadata": {},
   "outputs": [],
   "source": [
    "kev = []\n",
    "for e in energies :\n",
    "    kev.append(e*10**(-3))"
   ]
  },
  {
   "cell_type": "code",
   "execution_count": 45,
   "id": "2db0415b",
   "metadata": {},
   "outputs": [
    {
     "data": {
      "text/plain": [
       "<function matplotlib.pyplot.show(close=None, block=None)>"
      ]
     },
     "execution_count": 45,
     "metadata": {},
     "output_type": "execute_result"
    },
    {
     "data": {
      "image/png": "[encoded data removed]",
      "text/plain": [
       "<Figure size 640x480 with 1 Axes>"
      ]
     },
     "metadata": {},
     "output_type": "display_data"
    }
   ],
   "source": [
    "plt.plot(kev, xs_tot, color='black')\n",
    "plt.xlabel('Neutrino Energy (keV)')\n",
    "plt.ylabel('Cross Section (cm^2)')\n",
    "plt.yscale('log')\n",
    "plt.savefig('zinc_xs.png')\n",
    "plt.show"
   ]
  },
  {
   "cell_type": "code",
   "execution_count": 46,
   "id": "ed3de163",
   "metadata": {},
   "outputs": [],
   "source": [
    "# Download Data\n",
    "csv_file = 'zinc_xs.csv'\n",
    "with open(csv_file, 'w', newline='') as file:\n",
    "    fieldnames = ['energy', 'xs']\n",
    "    writer = csv.DictWriter(file, fieldnames=fieldnames)\n",
    "    writer.writeheader()\n",
    "    for i in range(len(energies)) :\n",
    "        writer.writerow({'energy': energies[i], 'xs': xs_tot[i]})"
   ]
  },
  {
   "cell_type": "code",
   "execution_count": null,
   "id": "c22b93f6",
   "metadata": {},
   "outputs": [],
   "source": []
  }
 ],
 "metadata": {
  "kernelspec": {
   "display_name": "CEvNS",
   "language": "python",
   "name": "cevns"
  },
  "language_info": {
   "codemirror_mode": {
    "name": "ipython",
    "version": 3
   },
   "file_extension": ".py",
   "mimetype": "text/x-python",
   "name": "python",
   "nbconvert_exporter": "python",
   "pygments_lexer": "ipython3",
   "version": "3.10.9"
  }
 },
 "nbformat": 4,
 "nbformat_minor": 5
}
