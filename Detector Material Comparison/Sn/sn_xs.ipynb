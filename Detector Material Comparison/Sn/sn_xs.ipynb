{
 "cells": [
  {
   "cell_type": "code",
   "execution_count": 2,
   "id": "2d83aae6",
   "metadata": {},
   "outputs": [],
   "source": [
    "### Imports\n",
    "import numpy as np\n",
    "import matplotlib.pyplot as plt\n",
    "import csv\n",
    "import math"
   ]
  },
  {
   "cell_type": "markdown",
   "id": "5c300dac",
   "metadata": {},
   "source": [
    "Defining all Varaibles (Requires User)"
   ]
  },
  {
   "cell_type": "code",
   "execution_count": 3,
   "id": "31642f01",
   "metadata": {},
   "outputs": [],
   "source": [
    "### Set Maximum Energy\n",
    "Q = 8000   #keV"
   ]
  },
  {
   "cell_type": "code",
   "execution_count": 4,
   "id": "efea4bb6",
   "metadata": {},
   "outputs": [],
   "source": [
    "### Detector Material Variables\n",
    "mat = 'sn'\n",
    "Z = 50\n",
    "ratio = 3.5\n",
    "T_c = 3.722 # Kelvin\n",
    "M = 118.698820 * 931368088 # eV"
   ]
  },
  {
   "cell_type": "code",
   "execution_count": 5,
   "id": "77cef316",
   "metadata": {},
   "outputs": [],
   "source": [
    "### Define Constants\n",
    "G_F = 1.663788*10**(-5) *10**(-18)   # GeV-2 to eV-2\n",
    "sin_w = 0.231\n",
    "hbar = 6.582119569 * 10**(-22) * 10**(6)   #MeV*s to eV*s\n",
    "c = 299792458 * 10**2   #m/s to cm/s\n",
    "k_B = 8.61733 * 10**(-5)  #eV/K"
   ]
  },
  {
   "cell_type": "code",
   "execution_count": 6,
   "id": "9bc331b1",
   "metadata": {},
   "outputs": [
    {
     "name": "stdout",
     "output_type": "stream",
     "text": [
      "Gap Energy: 0.0011225795791 eV\n"
     ]
    }
   ],
   "source": [
    "### Calculate the Superconducting Gap Energy\n",
    "T_0 = ratio * k_B * T_c\n",
    "print('Gap Energy: ' + str(T_0) + ' eV')"
   ]
  },
  {
   "cell_type": "code",
   "execution_count": 7,
   "id": "9f88f55b",
   "metadata": {},
   "outputs": [
    {
     "name": "stdout",
     "output_type": "stream",
     "text": [
      "Minimum Detectable Energy: 7877.3017037994505 eV\n"
     ]
    }
   ],
   "source": [
    "### Calculate Minimum Neutrino Energy\n",
    "# This is not the same for each isotope!  However, for ease I \n",
    "# conservatively defined this based on the heaviest mass.\n",
    "E_min = 0.5*T_0+0.5*math.sqrt(T_0**2 + 2*T_0*M)\n",
    "print('Minimum Detectable Energy: ' + str(E_min) + ' eV')"
   ]
  },
  {
   "cell_type": "code",
   "execution_count": 8,
   "id": "a000ce96",
   "metadata": {},
   "outputs": [],
   "source": [
    "### Make Energy Range List\n",
    "energies = []   # in eV\n",
    "for i in range(int(E_min*10**(-3))+1, int(Q)+1) :\n",
    "    energies.append(i*10**(3))"
   ]
  },
  {
   "cell_type": "markdown",
   "id": "a44985e6",
   "metadata": {},
   "source": [
    "Defining the Cross Section Function"
   ]
  },
  {
   "cell_type": "code",
   "execution_count": 9,
   "id": "c70f4a17",
   "metadata": {},
   "outputs": [],
   "source": [
    "def XS(N, M, E):\n",
    "    \n",
    "    # Define Weak Nuclear Charge\n",
    "    Q_W = N-(1-4*sin_w)*Z\n",
    "    \n",
    "    # Define Maximum Recoil Energy\n",
    "    T_max = E/(1+M/(2*E))\n",
    "    \n",
    "    # Calculate Cross Section\n",
    "    const_term = G_F**2 / (4*math.pi) * (hbar*c)**2 \n",
    "    sigma = const_term * E**2 * Q_W**2 * (1-T_0/T_max)**2\n",
    "    return sigma"
   ]
  },
  {
   "cell_type": "markdown",
   "id": "b4b1e6d8",
   "metadata": {},
   "source": [
    "Define Each Detecting Isotope (Requires User)"
   ]
  },
  {
   "cell_type": "code",
   "execution_count": 11,
   "id": "103bb18c",
   "metadata": {},
   "outputs": [],
   "source": [
    "# Isotope 112\n",
    "prob_112 = 0.0097\n",
    "N_112 = 62\n",
    "M_112 = 111.904821 * 931368088 #amu to eV\n",
    "xs_112 = []\n",
    "\n",
    "# Isotope 114\n",
    "prob_114 = 0.0065\n",
    "N_114 = 64\n",
    "M_114 = 113.902782 * 931368088 #amu to eV \n",
    "xs_114 = []\n",
    "\n",
    "# Isotope 115\n",
    "prob_115 = 0.0034\n",
    "N_115 = 65\n",
    "M_115 = 114.903346 * 931368088 #amu to eV \n",
    "xs_115 = []\n",
    "\n",
    "# Isotope 116\n",
    "prob_116 = 0.1454\n",
    "N_116 = 66\n",
    "M_116 = 115.901744 * 931368088 #amu to eV \n",
    "xs_116 = []\n",
    "\n",
    "# Isotope 117\n",
    "prob_117 = 0.0768\n",
    "N_117 = 67\n",
    "M_117 = 116.902954 * 931368088 #amu to eV \n",
    "xs_117 = []\n",
    "\n",
    "# Isotope 118\n",
    "prob_118 = 0.2422\n",
    "N_118 = 68\n",
    "M_118 = 117.901606 * 931368088 #amu to eV \n",
    "xs_118 = []\n",
    "\n",
    "# Isotope 119\n",
    "prob_119 = 0.0858\n",
    "N_119 = 69\n",
    "M_119 = 118.903309 * 931368088 #amu to eV \n",
    "xs_119 = []\n",
    "\n",
    "# Isotope 120\n",
    "prob_120 = 0.3259\n",
    "N_120 = 70\n",
    "M_120 = 119.902197 * 931368088 #amu to eV \n",
    "xs_120 = []\n",
    "\n",
    "# Isotope 122\n",
    "prob_122 = 0.0463\n",
    "N_122 = 72\n",
    "M_122 = 121.903440 * 931368088 #amu to eV \n",
    "xs_122 = []\n",
    "\n",
    "# Isotope 124\n",
    "prob_124 = 0.0579\n",
    "N_124 = 74\n",
    "M_124 = 123.905275 * 931368088 #amu to eV \n",
    "xs_124 = []"
   ]
  },
  {
   "cell_type": "markdown",
   "id": "083e1211",
   "metadata": {},
   "source": [
    "Calculate the Cross Section"
   ]
  },
  {
   "cell_type": "code",
   "execution_count": 12,
   "id": "ad452182",
   "metadata": {},
   "outputs": [],
   "source": [
    "### Calculate Individual Isotope Cross Sections\n",
    "for e in energies :\n",
    "    xs_112.append(XS(N_112, M_112, e))\n",
    "    xs_114.append(XS(N_112, M_112, e))\n",
    "    xs_115.append(XS(N_112, M_112, e))\n",
    "    xs_116.append(XS(N_112, M_112, e))\n",
    "    xs_117.append(XS(N_112, M_112, e))\n",
    "    xs_118.append(XS(N_112, M_112, e))\n",
    "    xs_119.append(XS(N_112, M_112, e))\n",
    "    xs_120.append(XS(N_112, M_112, e))\n",
    "    xs_122.append(XS(N_112, M_112, e))\n",
    "    xs_124.append(XS(N_112, M_112, e))"
   ]
  },
  {
   "cell_type": "code",
   "execution_count": 13,
   "id": "da550330",
   "metadata": {},
   "outputs": [],
   "source": [
    "### Calculate Total Cross Section\n",
    "xs_tot = []\n",
    "\n",
    "for i in range(0,len(xs_112)) :\n",
    "    tot = xs_112[i]*prob_112 + \\\n",
    "            xs_114[i]*prob_114 + \\\n",
    "            xs_115[i]*prob_115 + \\\n",
    "            xs_116[i]*prob_116 + \\\n",
    "            xs_117[i]*prob_117 + \\\n",
    "            xs_118[i]*prob_118 + \\\n",
    "            xs_119[i]*prob_119 + \\\n",
    "            xs_120[i]*prob_120 + \\\n",
    "            xs_122[i]*prob_122 + \\\n",
    "            xs_124[i]*prob_124\n",
    "    xs_tot.append(tot)"
   ]
  },
  {
   "cell_type": "code",
   "execution_count": 14,
   "id": "b03e3843",
   "metadata": {},
   "outputs": [],
   "source": [
    "### Convert energies back to keV\n",
    "kev = []\n",
    "for e in energies :\n",
    "    kev.append(e*10**(-3))"
   ]
  },
  {
   "cell_type": "markdown",
   "id": "c12cf7ff",
   "metadata": {},
   "source": [
    "Generate Results Files"
   ]
  },
  {
   "cell_type": "code",
   "execution_count": 15,
   "id": "a8f180bc",
   "metadata": {},
   "outputs": [
    {
     "data": {
      "text/plain": [
       "<function matplotlib.pyplot.show(close=None, block=None)>"
      ]
     },
     "execution_count": 15,
     "metadata": {},
     "output_type": "execute_result"
    },
    {
     "data": {
      "image/png": "[encoded data removed]",
      "text/plain": [
       "<Figure size 640x480 with 1 Axes>"
      ]
     },
     "metadata": {},
     "output_type": "display_data"
    }
   ],
   "source": [
    "### Plot Cross Section\n",
    "plt.plot(kev, xs_tot, color='black')\n",
    "plt.title(mat + ' CEvNS Cross Section')\n",
    "plt.xlabel('Neutrino Energy (keV)')\n",
    "plt.ylabel('Cross Section (cm^2)')\n",
    "plt.yscale('log')\n",
    "plt.savefig(mat + '_xs.pdf')\n",
    "plt.show"
   ]
  },
  {
   "cell_type": "code",
   "execution_count": 16,
   "id": "165f6a41",
   "metadata": {},
   "outputs": [],
   "source": [
    "### Download Data as a CSV File\n",
    "csv_file = mat + '_xs.csv'\n",
    "with open(csv_file, 'w', newline='') as file:\n",
    "    fieldnames = ['energy', 'xs']\n",
    "    writer = csv.DictWriter(file, fieldnames=fieldnames)\n",
    "    writer.writeheader()\n",
    "    for i in range(len(energies)) :\n",
    "        writer.writerow({'energy': energies[i], 'xs': xs_tot[i]})"
   ]
  },
  {
   "cell_type": "code",
   "execution_count": null,
   "id": "7da926b1",
   "metadata": {},
   "outputs": [],
   "source": []
  }
 ],
 "metadata": {
  "kernelspec": {
   "display_name": "CEvNS",
   "language": "python",
   "name": "cevns"
  },
  "language_info": {
   "codemirror_mode": {
    "name": "ipython",
    "version": 3
   },
   "file_extension": ".py",
   "mimetype": "text/x-python",
   "name": "python",
   "nbconvert_exporter": "python",
   "pygments_lexer": "ipython3",
   "version": "3.10.9"
  }
 },
 "nbformat": 4,
 "nbformat_minor": 5
}
