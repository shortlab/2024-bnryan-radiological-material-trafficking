{
 "cells": [
  {
   "cell_type": "code",
   "execution_count": 4,
   "id": "94705b27",
   "metadata": {},
   "outputs": [],
   "source": [
    "# Imports\n",
    "import numpy as np\n",
    "import matplotlib.pyplot as plt\n",
    "import csv\n",
    "import math"
   ]
  },
  {
   "cell_type": "code",
   "execution_count": 5,
   "id": "ab861b55",
   "metadata": {},
   "outputs": [],
   "source": [
    "# Element Unique Constants\n",
    "Z = 50\n",
    "ratio = 3.5\n",
    "T_c = 3.722 # Kelvin\n",
    "M = 118.698820 * 931368088 #amu to eV  # Using Heaviest Mass"
   ]
  },
  {
   "cell_type": "code",
   "execution_count": 6,
   "id": "991e57c4",
   "metadata": {},
   "outputs": [],
   "source": [
    "# Define Constants\n",
    "G_F = 1.663788*10**(-5) *10**(-18)   # GeV-2 to eV-2\n",
    "sin_w = 0.231\n",
    "Q = 8000   #keV\n",
    "hbar = 6.582119569 * 10**(-22) * 10**(6)   #MeV*s to eV*s\n",
    "c = 299792458 * 10**2   #m/s to cm/s\n",
    "k_B = 8.61733 * 10**(-5)  #eV/K"
   ]
  },
  {
   "cell_type": "code",
   "execution_count": 7,
   "id": "9d7dccc7",
   "metadata": {},
   "outputs": [
    {
     "name": "stdout",
     "output_type": "stream",
     "text": [
      "Gap Energy: 0.0011225795791 eV\n"
     ]
    }
   ],
   "source": [
    "# Calculate Critical Temperature\n",
    "T_0 = ratio * k_B * T_c\n",
    "print('Gap Energy: ' + str(T_0) + ' eV')"
   ]
  },
  {
   "cell_type": "code",
   "execution_count": 8,
   "id": "9897a9c9",
   "metadata": {},
   "outputs": [
    {
     "name": "stdout",
     "output_type": "stream",
     "text": [
      "Minimum Detectable Energy: 7877.3017037994505 eV\n"
     ]
    }
   ],
   "source": [
    "# Calculated Minimum Energy\n",
    "E_min = 0.5*T_0+0.5*math.sqrt(T_0**2 + 2*T_0*M)\n",
    "print('Minimum Detectable Energy: ' + str(E_min) + ' eV')"
   ]
  },
  {
   "cell_type": "code",
   "execution_count": 6,
   "id": "b5770ab1",
   "metadata": {},
   "outputs": [],
   "source": [
    "# Create Cross Section Function\n",
    "def XS(N, M, E):\n",
    "    Q_W = N-(1-4*sin_w)*Z\n",
    "    const_term = G_F**2 * Q_W**2 /(4*math.pi) * (hbar*c)**2 \n",
    "    T_max = E/(1+M/(2*E))\n",
    "    sigma = const_term * E**2 * (1-T_0/T_max)**2\n",
    "    return sigma"
   ]
  },
  {
   "cell_type": "code",
   "execution_count": 7,
   "id": "402a7974",
   "metadata": {},
   "outputs": [],
   "source": [
    "# Make Energy Spectrum\n",
    "energies = []   # in eV\n",
    "for i in range(int(E_min*10**(-3))+1, int(Q)+1) :\n",
    "    energies.append(i*10**(3))"
   ]
  },
  {
   "cell_type": "code",
   "execution_count": 8,
   "id": "940a4389",
   "metadata": {},
   "outputs": [],
   "source": [
    "# Isotope 112\n",
    "prob_112 = 0.0097\n",
    "N_112 = 62\n",
    "M_112 = 111.904821 * 931368088 #amu to eV\n",
    "xs_112 = []"
   ]
  },
  {
   "cell_type": "code",
   "execution_count": 9,
   "id": "6773c8df",
   "metadata": {},
   "outputs": [],
   "source": [
    "# Isotope 114\n",
    "prob_114 = 0.0065\n",
    "N_114 = 64\n",
    "M_114 = 113.902782 * 931368088 #amu to eV \n",
    "xs_114 = []"
   ]
  },
  {
   "cell_type": "code",
   "execution_count": 10,
   "id": "c0826ddc",
   "metadata": {},
   "outputs": [],
   "source": [
    "# Isotope 115\n",
    "prob_115 = 0.0034\n",
    "N_115 = 65\n",
    "M_115 = 114.903346 * 931368088 #amu to eV \n",
    "xs_115 = []"
   ]
  },
  {
   "cell_type": "code",
   "execution_count": 11,
   "id": "0404ba26",
   "metadata": {},
   "outputs": [],
   "source": [
    "# Isotope 116\n",
    "prob_116 = 0.1454\n",
    "N_116 = 66\n",
    "M_116 = 115.901744 * 931368088 #amu to eV \n",
    "xs_116 = []"
   ]
  },
  {
   "cell_type": "code",
   "execution_count": 12,
   "id": "44ed251a",
   "metadata": {},
   "outputs": [],
   "source": [
    "# Isotope 117\n",
    "prob_117 = 0.0768\n",
    "N_117 = 67\n",
    "M_117 = 116.902954 * 931368088 #amu to eV \n",
    "xs_117 = []"
   ]
  },
  {
   "cell_type": "code",
   "execution_count": 13,
   "id": "ffe46d19",
   "metadata": {},
   "outputs": [],
   "source": [
    "# Isotope 118\n",
    "prob_118 = 0.2422\n",
    "N_118 = 68\n",
    "M_118 = 117.901606 * 931368088 #amu to eV \n",
    "xs_118 = []"
   ]
  },
  {
   "cell_type": "code",
   "execution_count": 14,
   "id": "39623421",
   "metadata": {},
   "outputs": [],
   "source": [
    "# Isotope 119\n",
    "prob_119 = 0.0858\n",
    "N_119 = 69\n",
    "M_119 = 118.903309 * 931368088 #amu to eV \n",
    "xs_119 = []"
   ]
  },
  {
   "cell_type": "code",
   "execution_count": 15,
   "id": "a63804f9",
   "metadata": {},
   "outputs": [],
   "source": [
    "# Isotope 120\n",
    "prob_120 = 0.3259\n",
    "N_120 = 70\n",
    "M_120 = 119.902197 * 931368088 #amu to eV \n",
    "xs_120 = []"
   ]
  },
  {
   "cell_type": "code",
   "execution_count": 16,
   "id": "592d4285",
   "metadata": {},
   "outputs": [],
   "source": [
    "# Isotope 122\n",
    "prob_122 = 0.0463\n",
    "N_122 = 72\n",
    "M_122 = 121.903440 * 931368088 #amu to eV \n",
    "xs_122 = []"
   ]
  },
  {
   "cell_type": "code",
   "execution_count": 17,
   "id": "0134650b",
   "metadata": {},
   "outputs": [],
   "source": [
    "# Isotope 114\n",
    "prob_124 = 0.0579\n",
    "N_124 = 74\n",
    "M_124 = 123.905275 * 931368088 #amu to eV \n",
    "xs_124 = []"
   ]
  },
  {
   "cell_type": "code",
   "execution_count": 18,
   "id": "2c21bb61",
   "metadata": {},
   "outputs": [],
   "source": [
    "# Calculate Isotope Cross Sections\n",
    "for e in energies :\n",
    "    xs_112.append(XS(N_112, M_112, e))\n",
    "    xs_114.append(XS(N_112, M_112, e))\n",
    "    xs_115.append(XS(N_112, M_112, e))\n",
    "    xs_116.append(XS(N_112, M_112, e))\n",
    "    xs_117.append(XS(N_112, M_112, e))\n",
    "    xs_118.append(XS(N_112, M_112, e))\n",
    "    xs_119.append(XS(N_112, M_112, e))\n",
    "    xs_120.append(XS(N_112, M_112, e))\n",
    "    xs_122.append(XS(N_112, M_112, e))\n",
    "    xs_124.append(XS(N_112, M_112, e))"
   ]
  },
  {
   "cell_type": "code",
   "execution_count": 19,
   "id": "774f32e2",
   "metadata": {},
   "outputs": [],
   "source": [
    "xs_tot = []\n",
    "\n",
    "for i in range(0,len(xs_112)) :\n",
    "    tot = xs_112[i]*prob_112 + \\\n",
    "            xs_114[i]*prob_114 + \\\n",
    "            xs_115[i]*prob_115 + \\\n",
    "            xs_116[i]*prob_116 + \\\n",
    "            xs_117[i]*prob_117 + \\\n",
    "            xs_118[i]*prob_118 + \\\n",
    "            xs_119[i]*prob_119 + \\\n",
    "            xs_120[i]*prob_120 + \\\n",
    "            xs_122[i]*prob_122 + \\\n",
    "            xs_124[i]*prob_124\n",
    "    xs_tot.append(tot)"
   ]
  },
  {
   "cell_type": "code",
   "execution_count": 20,
   "id": "6679f00f",
   "metadata": {},
   "outputs": [],
   "source": [
    "kev = []\n",
    "for e in energies :\n",
    "    kev.append(e*10**(-3))"
   ]
  },
  {
   "cell_type": "code",
   "execution_count": 21,
   "id": "2db0415b",
   "metadata": {},
   "outputs": [
    {
     "data": {
      "text/plain": [
       "<function matplotlib.pyplot.show(close=None, block=None)>"
      ]
     },
     "execution_count": 21,
     "metadata": {},
     "output_type": "execute_result"
    },
    {
     "data": {
      "image/png": "[encoded data removed]",
      "text/plain": [
       "<Figure size 640x480 with 1 Axes>"
      ]
     },
     "metadata": {},
     "output_type": "display_data"
    }
   ],
   "source": [
    "plt.plot(kev, xs_tot, color='black')\n",
    "plt.xlabel('Neutrino Energy (keV)')\n",
    "plt.ylabel('Cross Section (cm^2)')\n",
    "plt.yscale('log')\n",
    "plt.savefig('tin_xs.png')\n",
    "plt.show"
   ]
  },
  {
   "cell_type": "code",
   "execution_count": 22,
   "id": "ed3de163",
   "metadata": {},
   "outputs": [],
   "source": [
    "# Download Data\n",
    "csv_file = 'tin_xs.csv'\n",
    "with open(csv_file, 'w', newline='') as file:\n",
    "    fieldnames = ['energy', 'xs']\n",
    "    writer = csv.DictWriter(file, fieldnames=fieldnames)\n",
    "    writer.writeheader()\n",
    "    for i in range(len(energies)) :\n",
    "        writer.writerow({'energy': energies[i], 'xs': xs_tot[i]})"
   ]
  },
  {
   "cell_type": "code",
   "execution_count": null,
   "id": "c22b93f6",
   "metadata": {},
   "outputs": [],
   "source": []
  }
 ],
 "metadata": {
  "kernelspec": {
   "display_name": "CEvNS",
   "language": "python",
   "name": "cevns"
  },
  "language_info": {
   "codemirror_mode": {
    "name": "ipython",
    "version": 3
   },
   "file_extension": ".py",
   "mimetype": "text/x-python",
   "name": "python",
   "nbconvert_exporter": "python",
   "pygments_lexer": "ipython3",
   "version": "3.10.9"
  }
 },
 "nbformat": 4,
 "nbformat_minor": 5
}
